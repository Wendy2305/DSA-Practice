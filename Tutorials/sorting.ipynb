{
 "cells": [
  {
   "cell_type": "code",
   "execution_count": null,
   "metadata": {},
   "outputs": [],
   "source": [
    "def bubble(list_a):\n",
    "    indexing_length = len(list_a) -1\n",
    "    sorted = False\n",
    "    swaps = 0\n",
    "\n",
    "    while not sorted:\n",
    "        sorted = True\n",
    "        for i in range(0, indexing_length):\n",
    "            if list_a[i] > list_a[i+1]:\n",
    "                sorted = False\n",
    "                list_a[i], list_a[i+1] = list_a[i+1], list_a[i]\n",
    "        swaps +=1\n",
    "    print(\"swaps: \", swaps)   \n",
    "    print(\"YT guy bubble sort:\", list_a)\n",
    "    return list_a\n",
    "\n",
    "bubble([4,6,8,3,2,5,7,8,9])"
   ]
  },
  {
   "cell_type": "code",
   "execution_count": null,
   "metadata": {},
   "outputs": [],
   "source": [
    "def g4g_bubble_sort(arr):\n",
    "    n = len(arr) -1\n",
    "    for i in range(n):\n",
    "        for j in range(0, n-i-1):\n",
    "\n",
    "            if arr[j] > arr[j+1]:\n",
    "                arr[j], arr[j+1] = arr[j+1], arr[j]\n",
    "    print(\"Geeks for Geeks bubble sort:\", arr)\n",
    "    return(arr)\n",
    "\n",
    "g4g_bubble_sort( [4,6,8,3,2,5,7,8,9])\n"
   ]
  },
  {
   "cell_type": "code",
   "execution_count": null,
   "metadata": {},
   "outputs": [],
   "source": [
    "def selection_sort(list_b):\n",
    "    indexing_length = range(0, len(list_b)-1)\n",
    "\n",
    "    for i in indexing_length:\n",
    "        min_value = i\n",
    "        print(\"min_val\", min_value)\n",
    "\n",
    "        for j in range(i+1, len(list_b)):\n",
    "            if list_b[j] < list_b[min_value]:\n",
    "                min_value = j\n",
    "\n",
    "        if min_value != i:\n",
    "            list_b[min_value], list_b[i] = list_b[i], list_b[min_value] \n",
    "        print(\"YT guy selection sort:\", list_b)\n",
    "    return list_b\n",
    "selection_sort([64, 25, 12, 22, 11])"
   ]
  },
  {
   "cell_type": "code",
   "execution_count": null,
   "metadata": {},
   "outputs": [],
   "source": [
    "def g4g_selection_sort(arr_x):\n",
    "    for i in range(len(arr_x)-1):\n",
    "        min_value = i\n",
    "\n",
    "        for j in range(1, len(arr_x)-1 ):\n",
    "            if arr_x[min_value] > arr_x[j]:\n",
    "                min_value = j\n",
    "\n",
    "        arr_x[i], arr_x[min_value] = arr_x[min_value], arr_x[i]\n",
    "\n",
    "    print(\"Geeks for Geeks selection sort:\", arr_x)\n",
    "    return(arr_x)\n",
    "\n",
    "g4g_selection_sort( [4,6,8,3,2,5,7,8,9])"
   ]
  },
  {
   "cell_type": "code",
   "execution_count": null,
   "metadata": {},
   "outputs": [],
   "source": [
    "def my_insertion_sort(list_c):\n",
    "    sorted_list = []\n",
    "\n",
    "    sorted_list.append(list_c[0])\n",
    "\n",
    "    for i in range(1, len(list_c)):\n",
    "        sorted_list.append(list_c[i])\n",
    "        print(\"Sorted List:\", sorted_list)\n",
    "\n",
    "        for j in range(1, len(sorted_list)):\n",
    "            if sorted_list[-j] < sorted_list[-j-1]:\n",
    "                sorted_list[-j], sorted_list[-j-1] = sorted_list[-j-1], sorted_list[-j]\n",
    "    \n",
    "    print(\"MY Sorted List:\", sorted_list)\n",
    "    return sorted_list\n",
    "my_insertion_sort([3,1,8,4,9,3,5,6,2])"
   ]
  },
  {
   "cell_type": "code",
   "execution_count": null,
   "metadata": {},
   "outputs": [],
   "source": [
    "def his_insertion_sort(list_d):\n",
    "    for i in range(1, len(list_d)):\n",
    "        value_to_sort = list_d[i]\n",
    "\n",
    "        while list_d[i-1] > value_to_sort and i>0:\n",
    "            list_d[i], list_d[i-1] = list_d[i-1], list_d[i]\n",
    "            i = i-1\n",
    "\n",
    "    print(\"MY Sorted List:\", list_d)\n",
    "    return list_d\n",
    "his_insertion_sort([3,1,8,4,9,3,5,6,2])"
   ]
  }
 ],
 "metadata": {
  "language_info": {
   "name": "python"
  },
  "orig_nbformat": 4
 },
 "nbformat": 4,
 "nbformat_minor": 2
}
