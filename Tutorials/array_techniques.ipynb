{
 "cells": [
  {
   "cell_type": "code",
   "execution_count": 21,
   "metadata": {},
   "outputs": [
    {
     "name": "stdout",
     "output_type": "stream",
     "text": [
      "[6, 9, 13, 18, 24, 31, 39]\n"
     ]
    }
   ],
   "source": [
    "def fixed_sliding_window(arr, k):\n",
    "    #This is to sum up the first sub-array\n",
    "    curr_subarray = sum(arr[:k])\n",
    "    result = [curr_subarray]\n",
    "\n",
    "    #This is to get subsequent sub-arrays\n",
    "    ##We do this by adding the next value and removing the previous value\n",
    "\n",
    "    for i in range(1, len(arr)-k+1):\n",
    "        curr_subarray -= arr[i-i]\n",
    "        curr_subarray += arr[i+k-1]\n",
    "\n",
    "        result.append(curr_subarray)\n",
    "    return result\n",
    "\n",
    "print(fixed_sliding_window([1,2,3,4,5,6,7,8,9], 3))\n"
   ]
  },
  {
   "cell_type": "code",
   "execution_count": null,
   "metadata": {},
   "outputs": [],
   "source": [
    "def maxProfit(prices):\n",
    "    n = len(prices)-1\n",
    "    #max_profit = max(prices) - prices[0]\n",
    "    max_profit = 0\n",
    "    min_price = min(prices)\n",
    "    for i in range(n):\n",
    "        high_price = max(prices[i:])\n",
    "        profit = high_price - prices[i]\n",
    "        max_profit = max(max_profit, profit)\n",
    "    return max_profit\n",
    "\n",
    "#prices = [2,4,1]\n",
    "#prices = [7,6,4,3,1]\n",
    "prices = [7,1,5,3,6,4]\n",
    "print(maxProfit(prices))   "
   ]
  },
  {
   "cell_type": "code",
   "execution_count": null,
   "metadata": {},
   "outputs": [],
   "source": [
    "def maxProfit(prices, n):\n",
    "    buy = prices[0]\n",
    "    max_profit = 0\n",
    "    for i in range(1, n):\n",
    " \n",
    "        ## Checking for lower buy value\n",
    "        if (buy > prices[i]):\n",
    "            buy = prices[i]\n",
    " \n",
    "        ## Checking for higher profit\n",
    "        elif (prices[i] - buy > max_profit):\n",
    "            max_profit = prices[i] - buy;\n",
    "    return max_profit"
   ]
  },
  {
   "cell_type": "code",
   "execution_count": 28,
   "metadata": {},
   "outputs": [
    {
     "name": "stdout",
     "output_type": "stream",
     "text": [
      "[1, 1, 2]\n",
      "nums:  [1, 1, 2]\n"
     ]
    }
   ],
   "source": [
    "def sortColors(nums):\n",
    "    red = list(\"0\" * (nums.count(0)))\n",
    "    white = list(\"1\" * (nums.count(1)))\n",
    "    blue = list(\"2\" * (nums.count(2)))\n",
    "    total = red + white + blue\n",
    "    total = [int(i) for i in total]\n",
    "    \n",
    "    for i in range(len(total)):\n",
    "        nums[i] = total[i]\n",
    "    return nums\n",
    "\n",
    "sortColors([2,1,1])"
   ]
  },
  {
   "cell_type": "code",
   "execution_count": 30,
   "metadata": {},
   "outputs": [
    {
     "name": "stdout",
     "output_type": "stream",
     "text": [
      "nums:  [0, 0, 0, 1, 1, 1, 1, 2, 2, 2]\n"
     ]
    }
   ],
   "source": [
    "def sortColors(nums):\n",
    "    red = nums.count(0)\n",
    "    white = nums.count(1)\n",
    "    blue = nums.count(2)\n",
    "    total = red + white + blue\n",
    "    for i in range(total):\n",
    "        if red >0:\n",
    "            nums[i] = 0\n",
    "            red -=1\n",
    "        elif white > 0:\n",
    "            nums[i] = 1\n",
    "            white -=1\n",
    "        elif blue > 0:\n",
    "            nums[i] = 2\n",
    "            blue -=1\n",
    "    print(\"nums: \", nums)\n",
    "\n",
    "sortColors([2,1,0,2,1,0,2,1,0,1])"
   ]
  },
  {
   "cell_type": "code",
   "execution_count": null,
   "metadata": {},
   "outputs": [],
   "source": [
    "def maxProfit(prices):\n",
    "    buy_price = min(prices)\n",
    "    buy_index = prices.index(buy_price)\n",
    "\n",
    "    if buy_index == len(prices)-1:\n",
    "        prices.pop(-1)\n",
    "        buy_price = min(prices)\n",
    "\n",
    "\n",
    "    sell_price = max(prices[buy_index:], default=None)\n",
    "    if sell_price == None:\n",
    "        return 0\n",
    "    sell_index = prices.index(sell_price)\n",
    "\n",
    "    profit = sell_price - buy_price\n",
    "    return profit\n",
    "#prices = [7,6,4,3,1]\n",
    "prices = [2,4,1]\n",
    "\n",
    "print(maxProfit(prices))"
   ]
  },
  {
   "cell_type": "code",
   "execution_count": null,
   "metadata": {},
   "outputs": [],
   "source": [
    "'''        \n",
    "        ans =[]\n",
    "        for i in range(0, len(nums)):\n",
    "            for j in range(i+1, len(nums)):\n",
    "                if (nums[i] + nums[j] == target):\n",
    "                    return([i,j])\n",
    "'''\n",
    "def TwoSum(nums, target):\n",
    "    n = len(nums)\n",
    "    m = 2\n",
    "    initial_array = sum(nums[:m])\n",
    "    \n",
    "    if initial_array==target:\n",
    "            return [0, 1]\n",
    "            \n",
    "    for i in range(1, n-m+1):\n",
    "        initial_array = initial_array - nums[i-1] +nums[i+m-1]\n",
    "        if initial_array==target:\n",
    "            return [i,i+1]\n",
    "        \n",
    "\n",
    "print(TwoSum([3,2,6,4], 6))"
   ]
  },
  {
   "cell_type": "code",
   "execution_count": 44,
   "metadata": {},
   "outputs": [
    {
     "name": "stdout",
     "output_type": "stream",
     "text": [
      "None\n"
     ]
    }
   ],
   "source": [
    "##Come back to this later\n",
    "def checkSubarraySum(nums, k):\n",
    "        \n",
    "        total = nums[0] + nums[1]\n",
    "        \n",
    "        i = 0\n",
    "        count = 2\n",
    "        sub_array =[nums[0], nums[1]]\n",
    "        \n",
    "        while i < len(nums):\n",
    "            if total > k:\n",
    "                count -=1\n",
    "                total = total - nums[i-count+1] \n",
    "                sub_array.pop(i-count+1)\n",
    "                i +=1\n",
    "                \n",
    "            elif total < k:\n",
    "                count +=1\n",
    "                total = total + nums[i+1]\n",
    "                sub_array.append(nums[i+1])\n",
    "                i+=1\n",
    "                \n",
    "            elif total == k:\n",
    "                return sub_array\n",
    "            else:\n",
    "                return False\n",
    "\n",
    "print(checkSubarraySum([23,2,6,4,7], 13))"
   ]
  },
  {
   "cell_type": "code",
   "execution_count": 96,
   "metadata": {},
   "outputs": [
    {
     "name": "stdout",
     "output_type": "stream",
     "text": [
      "[24]\n"
     ]
    }
   ],
   "source": [
    "def productExceptSelf(nums):\n",
    "    left = 1\n",
    "    new_list = []\n",
    "    x = 1\n",
    "    for i in range(x,len(nums)):\n",
    "        left = left * nums[i]\n",
    "        x +=1\n",
    "    new_list.append(left)\n",
    "        \n",
    "    print(new_list)\n",
    "\n",
    "productExceptSelf([1,2,3,4])"
   ]
  }
 ],
 "metadata": {
  "kernelspec": {
   "display_name": "Python 3.8.5 ('base')",
   "language": "python",
   "name": "python3"
  },
  "language_info": {
   "codemirror_mode": {
    "name": "ipython",
    "version": 3
   },
   "file_extension": ".py",
   "mimetype": "text/x-python",
   "name": "python",
   "nbconvert_exporter": "python",
   "pygments_lexer": "ipython3",
   "version": "3.8.5"
  },
  "orig_nbformat": 4,
  "vscode": {
   "interpreter": {
    "hash": "f2407f60e953aec4fe3de76e4a8b6e23cb357e4faa70cfc9f06965f8c2bae4f7"
   }
  }
 },
 "nbformat": 4,
 "nbformat_minor": 2
}
