{
 "cells": [
  {
   "cell_type": "code",
   "execution_count": 2,
   "metadata": {},
   "outputs": [
    {
     "name": "stdout",
     "output_type": "stream",
     "text": [
      "[54, 93, 77, 44, 20]\n"
     ]
    }
   ],
   "source": [
    "# 1. [3 marks]\n",
    "# k = [54, 26, 93, 17, 77, 31, 44, 55, 20]\n",
    "# Write a Python code that returns a list [54, 93, 77, 44, 20] from k\n",
    "\n",
    "def return_list(arr):\n",
    "    i = 0\n",
    "    my_list = []\n",
    "    while i < len(arr):\n",
    "        my_list.append(arr[i])\n",
    "        i +=2\n",
    "    return my_list\n",
    "print(return_list([54, 26, 93, 17, 77, 31, 44, 55, 20]))"
   ]
  },
  {
   "cell_type": "code",
   "execution_count": 13,
   "metadata": {},
   "outputs": [
    {
     "name": "stdout",
     "output_type": "stream",
     "text": [
      "[54, 93, 77, 44, 20]\n"
     ]
    }
   ],
   "source": [
    "# 1. [3 marks]\n",
    "# k = [54, 26, 93, 17, 77, 31, 44, 55, 20]\n",
    "# Write a Python code that returns a list [54, 93, 77, 44, 20] from k\n",
    "\n",
    "\n",
    "def return_list(arr):\n",
    "    my_dict ={\n",
    "        1:54,\n",
    "        2:93,\n",
    "        3:77,\n",
    "        4:44,\n",
    "        5:20\n",
    "    }\n",
    "\n",
    "    my_list = []\n",
    "    x=1\n",
    "    for i in range(0, len(arr)):\n",
    "        if arr[i] == my_dict[x]:\n",
    "            my_list.append(arr[i])\n",
    "            x +=1\n",
    "    return my_list\n",
    "print(return_list([54, 26, 93, 17, 77, 31, 44, 55, 20]))\n"
   ]
  },
  {
   "cell_type": "code",
   "execution_count": 5,
   "metadata": {},
   "outputs": [
    {
     "name": "stdout",
     "output_type": "stream",
     "text": [
      "MY Sorted List: ['i234', 'jh4', '67u', '7a', '9aa']\n",
      "['i234', 'jh4', '67u', '7a', '9aa']\n"
     ]
    }
   ],
   "source": [
    "# 2. 7 marks\n",
    "# g = ['7a', '9aa', 'i234', 'jh4', '67u']\n",
    "# Arrange the list above in descending order using the insert\n",
    "# sort algorithm. The final output looks like this\n",
    "# ['i234', 'jh4', '67u', '7a', '9aa'] \n",
    "\n",
    "\n",
    "def descend_sorter(arr):\n",
    "    my_dict = {\n",
    "        '9aa': 1,\n",
    "        '7a' : 2,\n",
    "        '67u':3,\n",
    "        'jh4':4,\n",
    "        'i234':5\n",
    "    }\n",
    "\n",
    "    for i in range(1, len(arr)):\n",
    "        value_to_sort = arr[i]\n",
    "\n",
    "        while my_dict[arr[i-1]] < my_dict[value_to_sort] and i>0:\n",
    "            arr[i], arr[i-1] = arr[i-1], arr[i]\n",
    "            i = i-1\n",
    "\n",
    "    print(\"MY Sorted List (in descending order):\", arr)\n",
    "    return arr\n",
    "\n",
    "print(descend_sorter(['7a', '9aa', 'i234', 'jh4', '67u']))"
   ]
  }
 ],
 "metadata": {
  "kernelspec": {
   "display_name": "Python 3.8.5 ('base')",
   "language": "python",
   "name": "python3"
  },
  "language_info": {
   "codemirror_mode": {
    "name": "ipython",
    "version": 3
   },
   "file_extension": ".py",
   "mimetype": "text/x-python",
   "name": "python",
   "nbconvert_exporter": "python",
   "pygments_lexer": "ipython3",
   "version": "3.8.5"
  },
  "orig_nbformat": 4,
  "vscode": {
   "interpreter": {
    "hash": "f2407f60e953aec4fe3de76e4a8b6e23cb357e4faa70cfc9f06965f8c2bae4f7"
   }
  }
 },
 "nbformat": 4,
 "nbformat_minor": 2
}
