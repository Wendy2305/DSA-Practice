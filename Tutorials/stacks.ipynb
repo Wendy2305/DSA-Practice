{
 "cells": [
  {
   "cell_type": "code",
   "execution_count": null,
   "metadata": {},
   "outputs": [],
   "source": []
  }
 ],
 "metadata": {
  "kernelspec": {
   "display_name": "Python 3.9.13 64-bit (microsoft store)",
   "language": "python",
   "name": "python3"
  },
  "language_info": {
   "name": "python",
   "version": "3.9.13"
  },
  "orig_nbformat": 4,
  "vscode": {
   "interpreter": {
    "hash": "5c70c31affc930b912805ca889bba9f882e2351dd66c7034ece37bfea42248ab"
   }
  }
 },
 "nbformat": 4,
 "nbformat_minor": 2
}
