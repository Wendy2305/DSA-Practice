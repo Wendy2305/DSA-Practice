{
 "cells": [
  {
   "cell_type": "code",
   "execution_count": 3,
   "metadata": {},
   "outputs": [
    {
     "name": "stdout",
     "output_type": "stream",
     "text": [
      "haonrovert\n"
     ]
    }
   ],
   "source": [
    "## not exactly ideal as it doesnt use pop and append\n",
    "## Sope Solution\n",
    "def reversed_string(my_str):\n",
    "    arr = \"\"\n",
    "    i = len(my_str) -1\n",
    "\n",
    "    while i >=0:\n",
    "        arr += (my_str[i])\n",
    "        i -=1\n",
    "    return arr\n",
    "\n",
    "my_str = 'trevornoah'\n",
    "print(reversed_string(my_str))"
   ]
  },
  {
   "cell_type": "code",
   "execution_count": 22,
   "metadata": {},
   "outputs": [
    {
     "name": "stdout",
     "output_type": "stream",
     "text": [
      "10\n",
      "['h', 'a', 'o', 'n', 'r', 'o', 'v', 'e', 'r', 't']\n",
      "haonrovert\n",
      "None\n"
     ]
    }
   ],
   "source": [
    "## not exactly ideal as it doesnt use pop and append \n",
    "#MY SOLUTION\n",
    "def reversed_string(my_str):\n",
    "    rev_array = []\n",
    "    x = list(my_str)\n",
    "    print(len(x))\n",
    "    for i in range(len(x)):\n",
    "        rev_array.append(x[-i-1])\n",
    "    print(rev_array)\n",
    "    new_string = \"\".join(rev_array)\n",
    "    print(new_string)\n",
    "my_str = 'trevornoah'\n",
    "print(reversed_string(my_str))"
   ]
  },
  {
   "cell_type": "code",
   "execution_count": 24,
   "metadata": {},
   "outputs": [
    {
     "name": "stdout",
     "output_type": "stream",
     "text": [
      "semaJ\n"
     ]
    }
   ],
   "source": [
    "## Dr Kazeem Solution \n",
    "def rev_string(s): \n",
    "    stack2 = []  \n",
    "    stack = list(s)   \n",
    "    while len(stack) >0:       \n",
    "        stack2.append(stack.pop())\n",
    "        answer = '' .join(stack2) \n",
    "    return answer\n",
    "\n",
    "print(rev_string(\"James\"))"
   ]
  }
 ],
 "metadata": {
  "kernelspec": {
   "display_name": "Python 3.8.5 ('base')",
   "language": "python",
   "name": "python3"
  },
  "language_info": {
   "codemirror_mode": {
    "name": "ipython",
    "version": 3
   },
   "file_extension": ".py",
   "mimetype": "text/x-python",
   "name": "python",
   "nbconvert_exporter": "python",
   "pygments_lexer": "ipython3",
   "version": "3.8.5"
  },
  "orig_nbformat": 4,
  "vscode": {
   "interpreter": {
    "hash": "f2407f60e953aec4fe3de76e4a8b6e23cb357e4faa70cfc9f06965f8c2bae4f7"
   }
  }
 },
 "nbformat": 4,
 "nbformat_minor": 2
}
