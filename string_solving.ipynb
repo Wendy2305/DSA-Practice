{
 "cells": [
  {
   "cell_type": "code",
   "execution_count": null,
   "metadata": {},
   "outputs": [],
   "source": [
    "## LeetCode 344. Reverse String\n",
    "\n",
    "##Using Inbuilt Python Methods\n",
    "def ReversedString(s):\n",
    "    ##using Two Pointer technique\n",
    "    i = 0\n",
    "    j = len(s)-1\n",
    "    while i < j:\n",
    "        s[i], s[j] = s[j], s[i]\n",
    "        i +=1\n",
    "        j -=1\n",
    "\n",
    "    return s\n",
    "s = [\"h\",\"e\",\"l\",\"l\",\"o\"]\n",
    "print(ReversedString(s))"
   ]
  },
  {
   "cell_type": "code",
   "execution_count": null,
   "metadata": {},
   "outputs": [],
   "source": [
    "def isAnagram(s,t):\n",
    "    for i in list(s):\n",
    "        if i in t:\n",
    "            t = t.replace(i, \"\", 1)\n",
    "        else:\n",
    "            return False\n",
    "    if len(t)!=0:\n",
    "        return False\n",
    "    \n",
    "    return True\n",
    "#s = \"bad\"\n",
    "#t = \"dbaj\" \n",
    "s = \"anagram\"\n",
    "t = \"nagaram\"\n",
    "print(isAnagram(s,t))"
   ]
  },
  {
   "cell_type": "code",
   "execution_count": null,
   "metadata": {},
   "outputs": [],
   "source": [
    "##Leetcode 3. Longest Substring Without Repeating Characters\n",
    "def lengthOfLongestSubstring(s):\n",
    "    substring = ''\n",
    "    max_substring =0\n",
    "    for i in s:\n",
    "        if i in substring:\n",
    "            substring = ''\n",
    "            substring +=i\n",
    "        else:\n",
    "            substring +=i\n",
    "        max_substring = max(len(substring), max_substring)\n",
    "        print(\"i:\", i)\n",
    "        print(\"sub:\",substring)\n",
    "        print(\"maxsub:\", max_substring)\n",
    "    return max_substring\n",
    "#s = \"abcabcbb\"\n",
    "#s = \"bbbbb\"\n",
    "s = \"pwpke\"\n",
    "#s = \" \"\n",
    "#s= \"dvdf\"\n",
    "print(lengthOfLongestSubstring(s))"
   ]
  },
  {
   "cell_type": "code",
   "execution_count": 47,
   "metadata": {},
   "outputs": [
    {
     "ename": "TypeError",
     "evalue": "string indices must be integers",
     "output_type": "error",
     "traceback": [
      "\u001b[1;31m---------------------------------------------------------------------------\u001b[0m",
      "\u001b[1;31mTypeError\u001b[0m                                 Traceback (most recent call last)",
      "\u001b[1;32m<ipython-input-47-33d6fdf98f8a>\u001b[0m in \u001b[0;36m<module>\u001b[1;34m\u001b[0m\n\u001b[0;32m      4\u001b[0m         \u001b[0mprint\u001b[0m\u001b[1;33m(\u001b[0m\u001b[0ms\u001b[0m\u001b[1;33m[\u001b[0m\u001b[0mi\u001b[0m\u001b[1;33m]\u001b[0m\u001b[1;33m)\u001b[0m\u001b[1;33m\u001b[0m\u001b[1;33m\u001b[0m\u001b[0m\n\u001b[0;32m      5\u001b[0m \u001b[0ms\u001b[0m\u001b[1;33m=\u001b[0m\u001b[1;34m\"cow\"\u001b[0m\u001b[1;33m\u001b[0m\u001b[1;33m\u001b[0m\u001b[0m\n\u001b[1;32m----> 6\u001b[1;33m \u001b[0mprint\u001b[0m\u001b[1;33m(\u001b[0m\u001b[0mlengthOfLongestSubstring\u001b[0m\u001b[1;33m(\u001b[0m\u001b[0ms\u001b[0m\u001b[1;33m)\u001b[0m\u001b[1;33m)\u001b[0m\u001b[1;33m\u001b[0m\u001b[1;33m\u001b[0m\u001b[0m\n\u001b[0m",
      "\u001b[1;32m<ipython-input-47-33d6fdf98f8a>\u001b[0m in \u001b[0;36mlengthOfLongestSubstring\u001b[1;34m(s)\u001b[0m\n\u001b[0;32m      2\u001b[0m \u001b[1;32mdef\u001b[0m \u001b[0mlengthOfLongestSubstring\u001b[0m\u001b[1;33m(\u001b[0m\u001b[0ms\u001b[0m\u001b[1;33m)\u001b[0m\u001b[1;33m:\u001b[0m\u001b[1;33m\u001b[0m\u001b[1;33m\u001b[0m\u001b[0m\n\u001b[0;32m      3\u001b[0m     \u001b[1;32mfor\u001b[0m \u001b[0mi\u001b[0m \u001b[1;32min\u001b[0m \u001b[0ms\u001b[0m\u001b[1;33m:\u001b[0m\u001b[1;33m\u001b[0m\u001b[1;33m\u001b[0m\u001b[0m\n\u001b[1;32m----> 4\u001b[1;33m         \u001b[0mprint\u001b[0m\u001b[1;33m(\u001b[0m\u001b[0ms\u001b[0m\u001b[1;33m[\u001b[0m\u001b[0mi\u001b[0m\u001b[1;33m]\u001b[0m\u001b[1;33m)\u001b[0m\u001b[1;33m\u001b[0m\u001b[1;33m\u001b[0m\u001b[0m\n\u001b[0m\u001b[0;32m      5\u001b[0m \u001b[0ms\u001b[0m\u001b[1;33m=\u001b[0m\u001b[1;34m\"cow\"\u001b[0m\u001b[1;33m\u001b[0m\u001b[1;33m\u001b[0m\u001b[0m\n\u001b[0;32m      6\u001b[0m \u001b[0mprint\u001b[0m\u001b[1;33m(\u001b[0m\u001b[0mlengthOfLongestSubstring\u001b[0m\u001b[1;33m(\u001b[0m\u001b[0ms\u001b[0m\u001b[1;33m)\u001b[0m\u001b[1;33m)\u001b[0m\u001b[1;33m\u001b[0m\u001b[1;33m\u001b[0m\u001b[0m\n",
      "\u001b[1;31mTypeError\u001b[0m: string indices must be integers"
     ]
    }
   ],
   "source": [
    "##Leetcode 3. Longest Substring Without Repeating Characters\n",
    "def lengthOfLongestSubstring(s):\n",
    "    my_arr = list(s)\n",
    "    for i in my_arr:\n",
    "        if i \n",
    "print(lengthOfLongestSubstring(s))"
   ]
  }
 ],
 "metadata": {
  "kernelspec": {
   "display_name": "Python 3.8.5 ('base')",
   "language": "python",
   "name": "python3"
  },
  "language_info": {
   "codemirror_mode": {
    "name": "ipython",
    "version": 3
   },
   "file_extension": ".py",
   "mimetype": "text/x-python",
   "name": "python",
   "nbconvert_exporter": "python",
   "pygments_lexer": "ipython3",
   "version": "3.8.5"
  },
  "orig_nbformat": 4,
  "vscode": {
   "interpreter": {
    "hash": "f2407f60e953aec4fe3de76e4a8b6e23cb357e4faa70cfc9f06965f8c2bae4f7"
   }
  }
 },
 "nbformat": 4,
 "nbformat_minor": 2
}
