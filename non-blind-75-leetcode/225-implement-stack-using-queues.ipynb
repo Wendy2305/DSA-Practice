{
 "cells": [
  {
   "cell_type": "code",
   "execution_count": null,
   "metadata": {},
   "outputs": [],
   "source": [
    "from collections import deque\n",
    "class MyStack:\n",
    "\n",
    "    def __init__(self):\n",
    "        self.queue1 = []\n",
    "        #self.queue2 = []\n",
    "        \n",
    "    def push(self, x: int) -> None:\n",
    "        self.queue1.append(x)\n",
    "\n",
    "    def pop(self) -> int:\n",
    "        return self.queue1.pop()\n",
    "\n",
    "    def top(self) -> int:\n",
    "        return self.queue1[-1]\n",
    "\n",
    "    def empty(self) -> bool:\n",
    "        return len(self.queue1)==0\n"
   ]
  }
 ],
 "metadata": {
  "kernelspec": {
   "display_name": "Python 3.8.5 ('base')",
   "language": "python",
   "name": "python3"
  },
  "language_info": {
   "name": "python",
   "version": "3.8.5"
  },
  "orig_nbformat": 4,
  "vscode": {
   "interpreter": {
    "hash": "f2407f60e953aec4fe3de76e4a8b6e23cb357e4faa70cfc9f06965f8c2bae4f7"
   }
  }
 },
 "nbformat": 4,
 "nbformat_minor": 2
}
