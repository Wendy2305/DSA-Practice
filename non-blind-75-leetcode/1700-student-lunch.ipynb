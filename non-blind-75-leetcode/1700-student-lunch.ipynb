{
 "cells": [
  {
   "cell_type": "code",
   "execution_count": 21,
   "metadata": {},
   "outputs": [
    {
     "name": "stdout",
     "output_type": "stream",
     "text": [
      "3\n"
     ]
    }
   ],
   "source": [
    "from collections import deque\n",
    "def countStudents(students, sandwiches):\n",
    "    stud = deque(students)\n",
    "    while stud and sandwiches:\n",
    "        if sandwiches[0] in stud:\n",
    "            if stud[0] == sandwiches[0]:\n",
    "                sandwiches.pop(0)\n",
    "                stud.popleft()\n",
    "            else:\n",
    "                stud.append(stud.popleft())\n",
    "        else:\n",
    "            return len(stud)\n",
    "\n",
    "\n",
    "print(countStudents([1,1,1,0,0,1], [1,0,0,0,1,1]))"
   ]
  },
  {
   "cell_type": "code",
   "execution_count": 23,
   "metadata": {},
   "outputs": [
    {
     "name": "stdout",
     "output_type": "stream",
     "text": [
      "[2, 3, 4, 7]\n"
     ]
    }
   ],
   "source": [
    "listtt = [2,3,4,5,7]\n",
    "listtt.pop(-2)\n",
    "print(listtt)"
   ]
  },
  {
   "cell_type": "code",
   "execution_count": null,
   "metadata": {},
   "outputs": [],
   "source": [
    "\"(()()) (()) (()(()))\""
   ]
  }
 ],
 "metadata": {
  "kernelspec": {
   "display_name": "Python 3.8.5 ('base')",
   "language": "python",
   "name": "python3"
  },
  "language_info": {
   "codemirror_mode": {
    "name": "ipython",
    "version": 3
   },
   "file_extension": ".py",
   "mimetype": "text/x-python",
   "name": "python",
   "nbconvert_exporter": "python",
   "pygments_lexer": "ipython3",
   "version": "3.8.5"
  },
  "orig_nbformat": 4,
  "vscode": {
   "interpreter": {
    "hash": "f2407f60e953aec4fe3de76e4a8b6e23cb357e4faa70cfc9f06965f8c2bae4f7"
   }
  }
 },
 "nbformat": 4,
 "nbformat_minor": 2
}
