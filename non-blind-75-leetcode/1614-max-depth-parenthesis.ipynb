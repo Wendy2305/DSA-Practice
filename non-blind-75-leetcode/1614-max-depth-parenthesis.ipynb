{
 "cells": [
  {
   "cell_type": "code",
   "execution_count": null,
   "metadata": {},
   "outputs": [],
   "source": [
    "def maxDepth(s):\n",
    "    closed_counter = 0\n",
    "    max_closed_counter =0\n",
    "    for i in s:\n",
    "        if i == '(':\n",
    "            closed_counter +=1\n",
    "        if i == ')':\n",
    "            max_closed_counter = max(closed_counter, max_closed_counter)\n",
    "            closed_counter -=1\n",
    "        else:\n",
    "            continue\n",
    "    return max_closed_counter\n",
    "\n",
    "print(maxDepth(\"(1)+((2))+(((3)))\"))"
   ]
  }
 ],
 "metadata": {
  "kernelspec": {
   "display_name": "Python 3.8.5 ('base')",
   "language": "python",
   "name": "python3"
  },
  "language_info": {
   "codemirror_mode": {
    "name": "ipython",
    "version": 3
   },
   "file_extension": ".py",
   "mimetype": "text/x-python",
   "name": "python",
   "nbconvert_exporter": "python",
   "pygments_lexer": "ipython3",
   "version": "3.8.5"
  },
  "orig_nbformat": 4,
  "vscode": {
   "interpreter": {
    "hash": "f2407f60e953aec4fe3de76e4a8b6e23cb357e4faa70cfc9f06965f8c2bae4f7"
   }
  }
 },
 "nbformat": 4,
 "nbformat_minor": 2
}
