{
 "cells": [
  {
   "cell_type": "code",
   "execution_count": 16,
   "metadata": {},
   "outputs": [
    {
     "name": "stdout",
     "output_type": "stream",
     "text": [
      "a deque(['a'])\n",
      "a deque(['a', 'b'])\n",
      "a deque(['a'])\n",
      "a deque([])\n",
      "b deque(['c'])\n",
      "b deque([])\n",
      "b deque(['d'])\n",
      "b deque([])\n",
      "True\n"
     ]
    }
   ],
   "source": [
    "from collections import deque\n",
    "def backspaceCompare(s, t):\n",
    "    a = deque()\n",
    "    b = deque()\n",
    "    for i in s:\n",
    "        if i == '#' and i == s[0]:\n",
    "            continue\n",
    "        elif i == '#':\n",
    "            a.pop()\n",
    "        else:\n",
    "            a.append(i)\n",
    "        print(\"a\",a)\n",
    "    \n",
    "    for j in t:\n",
    "        if j == '#' and j == t[0]:\n",
    "            continue\n",
    "        elif j == '#':\n",
    "            b.pop()\n",
    "        else:\n",
    "            b.append(j)\n",
    "        print(\"b\",b)\n",
    "\n",
    "    if a == b:\n",
    "        return True\n",
    "    else:\n",
    "        return False\n",
    "        \n",
    "#print(backspaceCompare(\"ab#c\", \"ad#c\"))\n",
    "print(backspaceCompare(\"ab##\", \"c#d#\"))\n",
    "#print(backspaceCompare(\"a#c\", \"b\"))\n",
    "\n"
   ]
  },
  {
   "cell_type": "code",
   "execution_count": 8,
   "metadata": {},
   "outputs": [
    {
     "name": "stdout",
     "output_type": "stream",
     "text": [
      "s deque(['a', 'b', '#', 'c'])\n",
      "s deque(['a', 'b', '#', 'c'])\n",
      "s deque(['a', 'b', '#'])\n"
     ]
    },
    {
     "ename": "IndexError",
     "evalue": "deque index out of range",
     "output_type": "error",
     "traceback": [
      "\u001b[1;31m---------------------------------------------------------------------------\u001b[0m",
      "\u001b[1;31mIndexError\u001b[0m                                Traceback (most recent call last)",
      "\u001b[1;32m<ipython-input-8-1b26dd66abec>\u001b[0m in \u001b[0;36m<module>\u001b[1;34m\u001b[0m\n\u001b[0;32m     21\u001b[0m         \u001b[1;32mreturn\u001b[0m \u001b[1;32mFalse\u001b[0m\u001b[1;33m\u001b[0m\u001b[1;33m\u001b[0m\u001b[0m\n\u001b[0;32m     22\u001b[0m \u001b[1;33m\u001b[0m\u001b[0m\n\u001b[1;32m---> 23\u001b[1;33m \u001b[0mprint\u001b[0m\u001b[1;33m(\u001b[0m\u001b[0mbackspaceCompare\u001b[0m\u001b[1;33m(\u001b[0m\u001b[1;34m\"ab#c\"\u001b[0m\u001b[1;33m,\u001b[0m \u001b[1;34m\"ad#c\"\u001b[0m\u001b[1;33m)\u001b[0m\u001b[1;33m)\u001b[0m\u001b[1;33m\u001b[0m\u001b[1;33m\u001b[0m\u001b[0m\n\u001b[0m",
      "\u001b[1;32m<ipython-input-8-1b26dd66abec>\u001b[0m in \u001b[0;36mbackspaceCompare\u001b[1;34m(a, b)\u001b[0m\n\u001b[0;32m      4\u001b[0m     \u001b[0mt\u001b[0m \u001b[1;33m=\u001b[0m \u001b[0mdeque\u001b[0m\u001b[1;33m(\u001b[0m\u001b[0mb\u001b[0m\u001b[1;33m)\u001b[0m\u001b[1;33m\u001b[0m\u001b[1;33m\u001b[0m\u001b[0m\n\u001b[0;32m      5\u001b[0m     \u001b[1;32mfor\u001b[0m \u001b[0mi\u001b[0m \u001b[1;32min\u001b[0m \u001b[0mrange\u001b[0m\u001b[1;33m(\u001b[0m\u001b[0mlen\u001b[0m\u001b[1;33m(\u001b[0m\u001b[0ms\u001b[0m\u001b[1;33m)\u001b[0m\u001b[1;33m)\u001b[0m\u001b[1;33m:\u001b[0m\u001b[1;33m\u001b[0m\u001b[1;33m\u001b[0m\u001b[0m\n\u001b[1;32m----> 6\u001b[1;33m         \u001b[1;32mif\u001b[0m \u001b[0ms\u001b[0m\u001b[1;33m[\u001b[0m\u001b[0mi\u001b[0m\u001b[1;33m]\u001b[0m \u001b[1;33m==\u001b[0m \u001b[1;34m'#'\u001b[0m \u001b[1;32mand\u001b[0m \u001b[0ms\u001b[0m\u001b[1;33m[\u001b[0m\u001b[0mi\u001b[0m\u001b[1;33m]\u001b[0m \u001b[1;33m==\u001b[0m \u001b[0ms\u001b[0m\u001b[1;33m[\u001b[0m\u001b[1;36m0\u001b[0m\u001b[1;33m]\u001b[0m\u001b[1;33m:\u001b[0m\u001b[1;33m\u001b[0m\u001b[1;33m\u001b[0m\u001b[0m\n\u001b[0m\u001b[0;32m      7\u001b[0m             \u001b[1;32mcontinue\u001b[0m\u001b[1;33m\u001b[0m\u001b[1;33m\u001b[0m\u001b[0m\n\u001b[0;32m      8\u001b[0m         \u001b[1;32melif\u001b[0m \u001b[0ms\u001b[0m\u001b[1;33m[\u001b[0m\u001b[0mi\u001b[0m\u001b[1;33m]\u001b[0m \u001b[1;33m==\u001b[0m \u001b[1;34m'#'\u001b[0m\u001b[1;33m:\u001b[0m\u001b[1;33m\u001b[0m\u001b[1;33m\u001b[0m\u001b[0m\n",
      "\u001b[1;31mIndexError\u001b[0m: deque index out of range"
     ]
    }
   ],
   "source": [
    "from collections import deque\n",
    "def backspaceCompare(a, b):\n",
    "    s = deque(a)\n",
    "    t = deque(b)\n",
    "    for i in range(len(s)):\n",
    "        if s[i] == '#' and s[i] == s[0]:\n",
    "            continue\n",
    "        elif s[i] == '#':\n",
    "            s.pop()\n",
    "        print(\"s\",s)\n",
    "    \n",
    "    for j in range(len(t)):\n",
    "        if t[j] == '#' and t[j] == t[0]:\n",
    "            continue\n",
    "        elif t[j] == '#':\n",
    "            t.pop()\n",
    "        print(\"t\",t)\n",
    "    if s == t:\n",
    "        return True\n",
    "    else:\n",
    "        return False\n",
    "        \n",
    "print(backspaceCompare(\"ab#c\", \"ad#c\"))\n"
   ]
  }
 ],
 "metadata": {
  "kernelspec": {
   "display_name": "Python 3.8.5 ('base')",
   "language": "python",
   "name": "python3"
  },
  "language_info": {
   "codemirror_mode": {
    "name": "ipython",
    "version": 3
   },
   "file_extension": ".py",
   "mimetype": "text/x-python",
   "name": "python",
   "nbconvert_exporter": "python",
   "pygments_lexer": "ipython3",
   "version": "3.8.5"
  },
  "orig_nbformat": 4,
  "vscode": {
   "interpreter": {
    "hash": "f2407f60e953aec4fe3de76e4a8b6e23cb357e4faa70cfc9f06965f8c2bae4f7"
   }
  }
 },
 "nbformat": 4,
 "nbformat_minor": 2
}
