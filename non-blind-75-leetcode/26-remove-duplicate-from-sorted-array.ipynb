{
 "cells": [
  {
   "cell_type": "code",
   "execution_count": null,
   "metadata": {},
   "outputs": [],
   "source": [
    "def removeDuplicates(nums) -> int:\n",
    "        x = 0\n",
    "        i = 1\n",
    "        while i < len(nums):\n",
    "            if nums[x] == nums[i]:\n",
    "                w = nums.pop(i)\n",
    "                nums.append(w)\n",
    "                i+=1\n",
    "                \n",
    "            else:\n",
    "                x+=1\n",
    "                i+=1\n",
    "        return nums\n",
    "print(removeDuplicates([0,0,1,1,1,2,2,3,3,4]))"
   ]
  },
  {
   "cell_type": "code",
   "execution_count": null,
   "metadata": {},
   "outputs": [],
   "source": [
    "def removeDuplicates(nums) -> int:\n",
    "        x = 0\n",
    "        i = 1\n",
    "        while i < len(nums):\n",
    "            if nums[x] == nums[i]:\n",
    "                w = nums.pop(i)\n",
    "                nums.append(w)\n",
    "                i+=1\n",
    "                \n",
    "            else:\n",
    "                x+=1\n",
    "                i+=1\n",
    "        return nums\n",
    "print(removeDuplicates([0,0,1,1,1,2,2,3,3,4]))"
   ]
  }
 ],
 "metadata": {
  "kernelspec": {
   "display_name": "Python 3.8.5 ('base')",
   "language": "python",
   "name": "python3"
  },
  "language_info": {
   "name": "python",
   "version": "3.8.5"
  },
  "orig_nbformat": 4,
  "vscode": {
   "interpreter": {
    "hash": "f2407f60e953aec4fe3de76e4a8b6e23cb357e4faa70cfc9f06965f8c2bae4f7"
   }
  }
 },
 "nbformat": 4,
 "nbformat_minor": 2
}
