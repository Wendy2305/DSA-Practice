{
 "cells": [
  {
   "cell_type": "code",
   "execution_count": null,
   "metadata": {},
   "outputs": [],
   "source": [
    "##Learn to find an iterative way to do it\n",
    "\n",
    "def inorderTraversal(self, root: Optional[TreeNode]) -> List[int]:\n",
    "        if root is None:\n",
    "            return []\n",
    "        return self.inorderTraversal(root.left) + [root.val] + self.inorderTraversal(root.right)"
   ]
  }
 ],
 "metadata": {
  "kernelspec": {
   "display_name": "Python 3.8.5 ('base')",
   "language": "python",
   "name": "python3"
  },
  "language_info": {
   "name": "python",
   "version": "3.8.5"
  },
  "orig_nbformat": 4,
  "vscode": {
   "interpreter": {
    "hash": "f2407f60e953aec4fe3de76e4a8b6e23cb357e4faa70cfc9f06965f8c2bae4f7"
   }
  }
 },
 "nbformat": 4,
 "nbformat_minor": 2
}
