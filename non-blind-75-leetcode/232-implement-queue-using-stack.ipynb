{
 "cells": [
  {
   "cell_type": "code",
   "execution_count": null,
   "metadata": {},
   "outputs": [],
   "source": [
    "from collections import deque\n",
    "class MyQueue:\n",
    "    def __init__(self):\n",
    "        self.front = []\n",
    "        self.back = []\n",
    "\n",
    "    def push(self, x: int) -> None:\n",
    "        self.back.append(x)\n",
    "\n",
    "    def pop(self) -> int:\n",
    "        self.PutBackInsideFront()\n",
    "        return self.front.pop()\n",
    "        \n",
    "\n",
    "    def peek(self) -> int:\n",
    "        self.PutBackInsideFront()\n",
    "        return self.front[-1]\n",
    "\n",
    "    def empty(self) -> bool:\n",
    "        self.PutBackInsideFront()\n",
    "        return len(self.front) == 0\n",
    "\n",
    "    def PutBackInsideFront(self):\n",
    "        if not self.front:\n",
    "            for i in range(len(self.back)):\n",
    "                self.front.append(self.back.pop())\n",
    "        return self.front\n",
    "\n",
    "# Your MyQueue object will be instantiated and called as such:\n",
    "# obj = MyQueue()\n",
    "# obj.push(x)\n",
    "# param_2 = obj.pop()\n",
    "# param_3 = obj.peek()\n",
    "# param_4 = obj.empty()"
   ]
  }
 ],
 "metadata": {
  "kernelspec": {
   "display_name": "Python 3.9.13 64-bit (microsoft store)",
   "language": "python",
   "name": "python3"
  },
  "language_info": {
   "name": "python",
   "version": "3.9.13"
  },
  "orig_nbformat": 4,
  "vscode": {
   "interpreter": {
    "hash": "5c70c31affc930b912805ca889bba9f882e2351dd66c7034ece37bfea42248ab"
   }
  }
 },
 "nbformat": 4,
 "nbformat_minor": 2
}
