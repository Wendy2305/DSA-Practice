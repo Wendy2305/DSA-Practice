{
 "cells": [
  {
   "cell_type": "code",
   "execution_count": 3,
   "metadata": {},
   "outputs": [
    {
     "name": "stdout",
     "output_type": "stream",
     "text": [
      "-1\n"
     ]
    }
   ],
   "source": [
    "#VERY SLOW SOLTUION (TIME:7568ms)\n",
    "def firstUniqChar(s):\n",
    "    for i in s:\n",
    "        if s.count(i) == 1:\n",
    "            return s.index(i)\n",
    "        else:\n",
    "            continue\n",
    "    return -1\n",
    "\n",
    "# s=\"leetcode\"\n",
    "s= \"aabb\"\n",
    "print(firstUniqChar(s))"
   ]
  },
  {
   "cell_type": "code",
   "execution_count": 7,
   "metadata": {},
   "outputs": [
    {
     "name": "stdout",
     "output_type": "stream",
     "text": [
      "0\n"
     ]
    }
   ],
   "source": [
    "#Much better solution\n",
    "from collections import Counter\n",
    "\n",
    "def firstUniqChar(s):\n",
    "    char_dict = Counter(s)\n",
    "    for i in char_dict:\n",
    "        if char_dict[i] == 1:\n",
    "            return s.index(i)\n",
    "    return -1\n",
    "\n",
    "s=\"leetcode\"\n",
    "#s= \"aabb\"\n",
    "print(firstUniqChar(s))"
   ]
  },
  {
   "cell_type": "code",
   "execution_count": 11,
   "metadata": {},
   "outputs": [
    {
     "name": "stdout",
     "output_type": "stream",
     "text": [
      "0\n"
     ]
    }
   ],
   "source": [
    "min_value = float('inf')\n",
    "def get_min_value_2(d):\n",
    "    min_value = d[0]\n",
    "    for x in d:\n",
    "        if(min_value > x):\n",
    "            min_value = x\n",
    "    return min_value\n",
    "\n",
    "d = [80,67,12,56,7,8,9,10]\n",
    "print(get_min_value_2(d))\n"
   ]
  }
 ],
 "metadata": {
  "kernelspec": {
   "display_name": "Python 3.8.5 ('base')",
   "language": "python",
   "name": "python3"
  },
  "language_info": {
   "codemirror_mode": {
    "name": "ipython",
    "version": 3
   },
   "file_extension": ".py",
   "mimetype": "text/x-python",
   "name": "python",
   "nbconvert_exporter": "python",
   "pygments_lexer": "ipython3",
   "version": "3.8.5"
  },
  "orig_nbformat": 4,
  "vscode": {
   "interpreter": {
    "hash": "f2407f60e953aec4fe3de76e4a8b6e23cb357e4faa70cfc9f06965f8c2bae4f7"
   }
  }
 },
 "nbformat": 4,
 "nbformat_minor": 2
}
