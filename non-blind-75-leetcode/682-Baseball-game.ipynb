{
 "cells": [
  {
   "cell_type": "code",
   "execution_count": 18,
   "metadata": {},
   "outputs": [
    {
     "name": "stdout",
     "output_type": "stream",
     "text": [
      "[5, 10, 15]\n",
      "30\n",
      "None\n"
     ]
    }
   ],
   "source": [
    "from collections import deque\n",
    "def calPoints(operations):\n",
    "    stack = []\n",
    "    \n",
    "    for i in operations:\n",
    "        if i == 'D':\n",
    "            new_ans = stack[-1] * 2\n",
    "            stack.append(new_ans)\n",
    "        elif i ==\"C\":\n",
    "            stack.pop()\n",
    "        elif i == \"+\":\n",
    "            new_ans = stack[-1] + stack[-2]\n",
    "            stack.append(new_ans)\n",
    "        else:\n",
    "            stack.append(int(i))\n",
    "    print(stack)\n",
    "    print(sum(stack))\n",
    "operations = [\"5\",\"2\",\"C\",\"D\",\"+\"]\n",
    "print(calPoints(operations))"
   ]
  },
  {
   "cell_type": "code",
   "execution_count": 20,
   "metadata": {},
   "outputs": [
    {
     "name": "stdout",
     "output_type": "stream",
     "text": [
      "[5, 10, 15]\n",
      "30\n"
     ]
    }
   ],
   "source": [
    "##Condensed Code\n",
    "from collections import deque\n",
    "def calPoints(operations):\n",
    "    stack = []\n",
    "    \n",
    "    for i in operations:\n",
    "        if i == 'D':\n",
    "            stack.append(stack[-1] * 2)\n",
    "        elif i ==\"C\":\n",
    "            stack.pop()\n",
    "        elif i == \"+\":\n",
    "            stack.append(stack[-1] + stack[-2])\n",
    "        else:\n",
    "            stack.append(int(i))\n",
    "    print(stack)\n",
    "    return(sum(stack))\n",
    "operations = [\"5\",\"2\",\"C\",\"D\",\"+\"]\n",
    "print(calPoints(operations))"
   ]
  },
  {
   "cell_type": "code",
   "execution_count": 16,
   "metadata": {},
   "outputs": [
    {
     "name": "stdout",
     "output_type": "stream",
     "text": [
      "['5', '2', 'C', 'D', '+']\n"
     ]
    }
   ],
   "source": []
  }
 ],
 "metadata": {
  "kernelspec": {
   "display_name": "Python 3.8.5 ('base')",
   "language": "python",
   "name": "python3"
  },
  "language_info": {
   "codemirror_mode": {
    "name": "ipython",
    "version": 3
   },
   "file_extension": ".py",
   "mimetype": "text/x-python",
   "name": "python",
   "nbconvert_exporter": "python",
   "pygments_lexer": "ipython3",
   "version": "3.8.5"
  },
  "orig_nbformat": 4,
  "vscode": {
   "interpreter": {
    "hash": "f2407f60e953aec4fe3de76e4a8b6e23cb357e4faa70cfc9f06965f8c2bae4f7"
   }
  }
 },
 "nbformat": 4,
 "nbformat_minor": 2
}
