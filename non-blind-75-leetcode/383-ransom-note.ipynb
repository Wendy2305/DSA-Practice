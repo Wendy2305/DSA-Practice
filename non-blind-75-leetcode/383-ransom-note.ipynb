{
 "cells": [
  {
   "cell_type": "code",
   "execution_count": 26,
   "metadata": {},
   "outputs": [
    {
     "name": "stdout",
     "output_type": "stream",
     "text": [
      "{'f': 1}\n",
      "{'f': 1, 'i': 1}\n",
      "{'f': 1, 'i': 1, 'h': 1}\n",
      "{'f': 1, 'i': 1, 'h': 1, 'j': 1}\n",
      "False\n"
     ]
    }
   ],
   "source": [
    "def canConstruct(ransomNote, magazine):\n",
    "    mag_dict ={}\n",
    "    for i in ransomNote:\n",
    "        if i in magazine:\n",
    "            if i not in mag_dict:\n",
    "                mag_dict[i] = magazine.count(i) - 1\n",
    "                print(mag_dict)\n",
    "            else:\n",
    "                if mag_dict[i] <= 0:\n",
    "                    return False\n",
    "                mag_dict[i] = mag_dict[i]- 1\n",
    "        else:\n",
    "            return False\n",
    "    return True\n",
    "\n",
    "print(canConstruct(\"fihjjjjei\", \"hjibagacbhadfaefdjaeaebgi\"))\n",
    "            \n",
    "\n",
    "\n",
    "\n"
   ]
  },
  {
   "cell_type": "code",
   "execution_count": 24,
   "metadata": {},
   "outputs": [
    {
     "name": "stdout",
     "output_type": "stream",
     "text": [
      "4\n"
     ]
    }
   ],
   "source": [
    "mag_dict = {\n",
    "    \"a\":2,\n",
    "    \"b\":5\n",
    "}\n",
    "\n",
    "mag = \"abadabana\"\n",
    "print(mag.count('a')-1)"
   ]
  }
 ],
 "metadata": {
  "kernelspec": {
   "display_name": "Python 3.8.5 ('base')",
   "language": "python",
   "name": "python3"
  },
  "language_info": {
   "codemirror_mode": {
    "name": "ipython",
    "version": 3
   },
   "file_extension": ".py",
   "mimetype": "text/x-python",
   "name": "python",
   "nbconvert_exporter": "python",
   "pygments_lexer": "ipython3",
   "version": "3.8.5"
  },
  "orig_nbformat": 4,
  "vscode": {
   "interpreter": {
    "hash": "f2407f60e953aec4fe3de76e4a8b6e23cb357e4faa70cfc9f06965f8c2bae4f7"
   }
  }
 },
 "nbformat": 4,
 "nbformat_minor": 2
}
