{
 "cells": [
  {
   "cell_type": "code",
   "execution_count": null,
   "metadata": {},
   "outputs": [],
   "source": [
    "##First Approach, very wrong\n",
    "#WRONG!!\n",
    "        # if p is None or q is None:\n",
    "        #     return []\n",
    "        # if (p.left != q.left):\n",
    "        #     return False \n",
    "        # self.isSameTree(p.left, q.left)\n",
    "        # if (p.right != q.right):\n",
    "        #     return False \n",
    "        # self.isSameTree(p.right, q.right)\n",
    "        # return True"
   ]
  },
  {
   "cell_type": "code",
   "execution_count": null,
   "metadata": {},
   "outputs": [],
   "source": [
    "##Alternative Solution\n",
    "##Shorter solution\n",
    "if not p and not q:\n",
    "    return 1\n",
    "if not p or not q:\n",
    "    return 0\n",
    "return p.val==q.val and self.isSameTree(p.left,q.left) and self.isSameTree(p.right,q.right)\n",
    "    "
   ]
  },
  {
   "cell_type": "code",
   "execution_count": null,
   "metadata": {},
   "outputs": [],
   "source": [
    "##Alternative Solution\n",
    "##Shorter solution\n",
    "if p and q:\n",
    "        return p.val == q.val and self.isSameTree(p.left, q.left) and self.isSameTree(p.right, q.right)\n",
    "    return p is q"
   ]
  },
  {
   "cell_type": "code",
   "execution_count": null,
   "metadata": {},
   "outputs": [],
   "source": [
    "if (p.left and not q.left) or (not p.left and q.left):\n",
    "            return False\n",
    "        if (p.right and not q.right) or (not p.right and q.right):\n",
    "            return False\n",
    "        \n",
    "        if (p.val != q.val):\n",
    "            return False\n",
    "        \n",
    "        return self.isSameTree(p.left, q.left) and self.isSameTree(p.right, q.right)"
   ]
  }
 ],
 "metadata": {
  "language_info": {
   "name": "python"
  },
  "orig_nbformat": 4
 },
 "nbformat": 4,
 "nbformat_minor": 2
}
