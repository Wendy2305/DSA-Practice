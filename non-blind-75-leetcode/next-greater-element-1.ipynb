{
 "cells": [
  {
   "cell_type": "code",
   "execution_count": 27,
   "metadata": {},
   "outputs": [
    {
     "name": "stdout",
     "output_type": "stream",
     "text": [
      "1 5\n",
      "3 3\n",
      "5 1\n",
      "2 4\n",
      "4 2\n",
      "[7, 7, 7, 7, 7]\n"
     ]
    },
    {
     "data": {
      "text/plain": [
       "'\\n#Runtime: 236 ms, faster than 13.63% of Python3 online submissions for Next Greater Element I.\\n#Memory Usage: 14.1 MB, less than 56.60% of Python3 online submissions for Next Greater Element I.\\n'"
      ]
     },
     "execution_count": 27,
     "metadata": {},
     "output_type": "execute_result"
    }
   ],
   "source": [
    "from collections import deque\n",
    "def nextGreaterElement(nums1, nums2):\n",
    "    stack = []\n",
    "    nums_stack1 = deque(nums1)\n",
    "    while len(nums_stack1) > 0:\n",
    "        x = nums_stack1.popleft()\n",
    "        i = nums2.index(x)\n",
    "        print(x,i)\n",
    "        for j in nums2[i:]:\n",
    "            if j > x :\n",
    "                stack.append(j)\n",
    "                break\n",
    "            elif j == nums2[-1]:\n",
    "                stack.append(-1)\n",
    "            else:\n",
    "                continue\n",
    "                \n",
    "    return stack\n",
    "\n",
    "print(nextGreaterElement([1,3,5,2,4], [6,5,4,3,2,1,7]))             \n",
    "#print(nextGreaterElement([4,1,2], [1,3,4,2]))\n",
    "\n",
    "'''\n",
    "#Runtime: 236 ms, faster than 13.63% of Python3 online submissions for Next Greater Element I.\n",
    "#Memory Usage: 14.1 MB, less than 56.60% of Python3 online submissions for Next Greater Element I.\n",
    "'''"
   ]
  },
  {
   "cell_type": "code",
   "execution_count": null,
   "metadata": {},
   "outputs": [],
   "source": [
    "##Optimal Solution\n",
    "class Solution:\n",
    "    def nextGreaterElement(self, nums1: List[int], nums2: List[int]) -> List[int]:\n",
    "        ans = {}                                # ans record the NGE of every num in nums2 if exists.\n",
    "        res = []\n",
    "        stack = []                              # Using decreasing stack to find NGE.\n",
    "        \n",
    "        for n2 in nums2:\n",
    "            while stack and n2 > stack[-1]:     # At this situation, n2 is the NGE of stack[-1],\n",
    "                ans[stack.pop()] = n2           # so map stack[-1] to n2.\n",
    "            stack.append(n2)\n",
    "\t\t# [4, 2] {1: 3, 3: 4}\n",
    "        \n",
    "        for n1 in nums1:                        # Iterate through nums1,\n",
    "            res.append(ans.get(n1, -1))         # if n1 not appear in ans, there isn't NGE for n1, res.append(-1).\n",
    "                                                # Otherwise, res.append(ans[n1])\n",
    "        \n",
    "        return res"
   ]
  },
  {
   "cell_type": "code",
   "execution_count": 17,
   "metadata": {},
   "outputs": [
    {
     "name": "stdout",
     "output_type": "stream",
     "text": [
      "2\n",
      "3\n",
      "4\n",
      "5\n"
     ]
    }
   ],
   "source": [
    "nums2 = [1,2,3,4,5]\n",
    "i = 0\n",
    "for j in nums2[i+1:]:\n",
    "    print(j)\n",
    "    "
   ]
  }
 ],
 "metadata": {
  "kernelspec": {
   "display_name": "Python 3.8.5 ('base')",
   "language": "python",
   "name": "python3"
  },
  "language_info": {
   "codemirror_mode": {
    "name": "ipython",
    "version": 3
   },
   "file_extension": ".py",
   "mimetype": "text/x-python",
   "name": "python",
   "nbconvert_exporter": "python",
   "pygments_lexer": "ipython3",
   "version": "3.8.5"
  },
  "orig_nbformat": 4,
  "vscode": {
   "interpreter": {
    "hash": "f2407f60e953aec4fe3de76e4a8b6e23cb357e4faa70cfc9f06965f8c2bae4f7"
   }
  }
 },
 "nbformat": 4,
 "nbformat_minor": 2
}
