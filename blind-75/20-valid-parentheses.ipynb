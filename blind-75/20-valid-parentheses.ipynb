{
 "cells": [
  {
   "cell_type": "code",
   "execution_count": null,
   "metadata": {},
   "outputs": [],
   "source": [
    "##Neetcode Solution\n",
    "def isValid(s):\n",
    "    stack = []\n",
    "    reff = {\n",
    "        \")\" : \"(\",\n",
    "        \"}\" : \"{\",\n",
    "        \"]\":\"[\",\n",
    "    }\n",
    "\n",
    "    for c in s:\n",
    "        if c in reff:\n",
    "            if stack and stack[-1] == reff[c]:\n",
    "                stack.pop()\n",
    "            else:\n",
    "                return False\n",
    "        else:\n",
    "            stack.append(c)\n",
    "\n",
    "    return True if not stack else False"
   ]
  },
  {
   "cell_type": "code",
   "execution_count": null,
   "metadata": {},
   "outputs": [],
   "source": [
    "from collections import deque\n",
    "\n",
    "def isValid(self, s: str) -> bool:\n",
    "        open_stack = deque()\n",
    "    \n",
    "\n",
    "        reference = {\n",
    "            \")\":\"(\",\n",
    "            \"}\":\"{\",\n",
    "            \"]\":\"[\",\n",
    "        }\n",
    "\n",
    "        for i in s:\n",
    "            if i in reference.values():\n",
    "                open_stack.append(i)\n",
    "            elif i in reference.keys():\n",
    "                if open_stack and open_stack[-1] == reference[i]:\n",
    "                    open_stack.pop()\n",
    "                else:\n",
    "                    return False\n",
    "\n",
    "        if len(open_stack) == 0:\n",
    "            return True\n",
    "        else:\n",
    "            return False\n",
    "        "
   ]
  }
 ],
 "metadata": {
  "language_info": {
   "name": "python"
  },
  "orig_nbformat": 4
 },
 "nbformat": 4,
 "nbformat_minor": 2
}
