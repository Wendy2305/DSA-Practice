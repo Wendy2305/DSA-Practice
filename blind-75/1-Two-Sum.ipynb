{
 "cells": [
  {
   "cell_type": "code",
   "execution_count": 1,
   "metadata": {},
   "outputs": [
    {
     "name": "stdout",
     "output_type": "stream",
     "text": [
      "[1, 3]\n"
     ]
    }
   ],
   "source": [
    "## My very first solution\n",
    "## Time Complexity: O(n^2)\n",
    "def TwoSum(nums, target):\n",
    "    ans =[]\n",
    "    for i in range(0, len(nums)):\n",
    "        for j in range(i+1, len(nums)):\n",
    "            if (nums[i] + nums[j] == target):\n",
    "                return([i,j])\n",
    "\n",
    "print(TwoSum([3,2,6,4], 6))"
   ]
  },
  {
   "cell_type": "code",
   "execution_count": 4,
   "metadata": {},
   "outputs": [
    {
     "name": "stdout",
     "output_type": "stream",
     "text": [
      "[1, 2]\n"
     ]
    }
   ],
   "source": [
    "## My second solution\n",
    "def TwoSum(nums, target):\n",
    "    n = len(nums)\n",
    "    m = 2\n",
    "    initial_array = sum(nums[:m])\n",
    "    \n",
    "    if initial_array==target:\n",
    "            return [0, 1]\n",
    "            \n",
    "    for i in range(1, n-m+1):\n",
    "        initial_array = initial_array - nums[i-1] +nums[i+m-1]\n",
    "        if initial_array==target:\n",
    "            return [i,i+1]\n",
    "        \n",
    "\n",
    "print(TwoSum([3,2,6,4], 8))"
   ]
  },
  {
   "cell_type": "code",
   "execution_count": 7,
   "metadata": {},
   "outputs": [
    {
     "name": "stdout",
     "output_type": "stream",
     "text": [
      "[1, 2]\n"
     ]
    }
   ],
   "source": [
    "## The  Right Solution\n",
    "def TwoSum(nums, target):\n",
    "    hash_map = {}\n",
    "    \n",
    "    for i , x in enumerate(nums):\n",
    "        diff = target - x\n",
    "        if diff in hash_map:\n",
    "            return[hash_map[diff], i]\n",
    "        hash_map[x] = i\n",
    "\n",
    "    return []\n",
    "    \n",
    "print(TwoSum([3,2,6,4], 8))"
   ]
  }
 ],
 "metadata": {
  "kernelspec": {
   "display_name": "Python 3.8.5 ('base')",
   "language": "python",
   "name": "python3"
  },
  "language_info": {
   "codemirror_mode": {
    "name": "ipython",
    "version": 3
   },
   "file_extension": ".py",
   "mimetype": "text/x-python",
   "name": "python",
   "nbconvert_exporter": "python",
   "pygments_lexer": "ipython3",
   "version": "3.8.5"
  },
  "orig_nbformat": 4,
  "vscode": {
   "interpreter": {
    "hash": "f2407f60e953aec4fe3de76e4a8b6e23cb357e4faa70cfc9f06965f8c2bae4f7"
   }
  }
 },
 "nbformat": 4,
 "nbformat_minor": 2
}
