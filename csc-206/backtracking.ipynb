{
 "cells": [
  {
   "cell_type": "code",
   "execution_count": 8,
   "metadata": {},
   "outputs": [
    {
     "name": "stdout",
     "output_type": "stream",
     "text": [
      "False\n"
     ]
    }
   ],
   "source": [
    "global seen\n",
    "seen = False\n",
    "def backtrack(listt, index, sum): #sum is the same as the 'target' number\n",
    "    global seen\n",
    "    t = len(listt) - 1\n",
    "\n",
    "    if seen:\n",
    "        return True\n",
    "\n",
    "    if sum == 0:\n",
    "        seen = True\n",
    "        return True\n",
    "\n",
    "    if index > t:\n",
    "        return False\n",
    "\n",
    "    if sum < 0:\n",
    "        return False\n",
    "\n",
    "    left = backtrack(listt, index+1, sum-listt[index])\n",
    "    right = backtrack(listt, index + 1, sum)\n",
    "    if(left == True or right == True):\n",
    "        return True\n",
    "    else:\n",
    "        return False\n",
    "\n",
    "n = [3,4,5,2]\n",
    "sum = 9\n",
    "\n",
    "\n",
    "print(backtrack(n, 0, sum))"
   ]
  },
  {
   "cell_type": "code",
   "execution_count": null,
   "metadata": {},
   "outputs": [],
   "source": [
    "arr = [3, 4, 5, 2]\n",
    "target = 9\n",
    "\n",
    "def hasSum(arr, target, visited = set()):\n",
    "\n",
    "    if target == 0:\n",
    "        return True\n",
    "        \n",
    "    if target < 0:\n",
    "        return False\n",
    "        \n",
    "    for num in arr:\n",
    "        if num not in visited:\n",
    "            visited.add(num)\n",
    "            remainder = target - num \n",
    "            if hasSum(arr, remainder, visited) == True:\n",
    "                return True\n",
    "    \n",
    "    return False\n",
    "    \n",
    "print(hasSum(arr, target))"
   ]
  },
  {
   "cell_type": "code",
   "execution_count": null,
   "metadata": {},
   "outputs": [],
   "source": [
    "\n",
    "def subset_sum(my_array, target, my_index):\n",
    "    final_answer=[]\n",
    "    current_list = []\n",
    "\n",
    "    def dfs(target, my_index):\n",
    "\n",
    "        if(len(current_list)) >0:\n",
    "            if(sum(current_list)==target):\n",
    "                final_answer.append(current_list.copy())\n",
    "                return\n",
    "\n",
    "            if(sum(current_list)> target):\n",
    "                return\n",
    "\n",
    "        if(my_index >= len(my_array)):\n",
    "            return\n",
    "\n",
    "        current_list.append(my_array[my_index])\n",
    "        dfs(target, my_index+1)\n",
    "        \n",
    "\n",
    "            \n",
    "            \n",
    "\n",
    "\n"
   ]
  }
 ],
 "metadata": {
  "kernelspec": {
   "display_name": "Python 3.8.5 ('base')",
   "language": "python",
   "name": "python3"
  },
  "language_info": {
   "codemirror_mode": {
    "name": "ipython",
    "version": 3
   },
   "file_extension": ".py",
   "mimetype": "text/x-python",
   "name": "python",
   "nbconvert_exporter": "python",
   "pygments_lexer": "ipython3",
   "version": "3.8.5"
  },
  "orig_nbformat": 4,
  "vscode": {
   "interpreter": {
    "hash": "f2407f60e953aec4fe3de76e4a8b6e23cb357e4faa70cfc9f06965f8c2bae4f7"
   }
  }
 },
 "nbformat": 4,
 "nbformat_minor": 2
}
