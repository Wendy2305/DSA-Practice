{
 "cells": [
  {
   "cell_type": "code",
   "execution_count": 13,
   "metadata": {},
   "outputs": [],
   "source": [
    "from collections import deque\n",
    "def Solution(s):\n",
    "    my_dict ={\n",
    "        \"a\": \"b\",\n",
    "        \"b\": \"c\",\n",
    "        \"c\": \"a\"\n",
    "\n",
    "    }\n"
   ]
  },
  {
   "cell_type": "code",
   "execution_count": 107,
   "metadata": {},
   "outputs": [
    {
     "name": "stdout",
     "output_type": "stream",
     "text": [
      "5\n",
      "['a', 'b', 'c', 'a', 'b', 'ca', 'b', 'c', 'a']\n"
     ]
    }
   ],
   "source": [
    "from collections import deque\n",
    "def Solution(s):\n",
    "    i = 0\n",
    "    count = 0\n",
    "    s_list = list(s)\n",
    "    x = len(s_list)-1\n",
    "    while i < x:\n",
    "        if s_list[i] == \"a\" and s_list[i+1] ==\"a\":\n",
    "            s_list.insert(i+1, \"bc\")\n",
    "            count +=2\n",
    "            x +=1\n",
    "        if s_list[i] == \"a\" and s_list[i+1] ==\"c\":\n",
    "            s_list.insert(i+1, \"b\")\n",
    "            count +=1\n",
    "            x +=1\n",
    "        if s_list[i] == \"b\" and s_list[i+1] ==\"a\":\n",
    "            s_list.insert(i+1, \"c\")\n",
    "            count +=1\n",
    "            x +=1\n",
    "        if s_list[i] == \"b\" and s_list[i+1] ==\"b\":\n",
    "            s_list.insert(i+1, \"ca\")\n",
    "            count +=2\n",
    "            x +=1\n",
    "        if s_list[i] == \"c\" and s_list[i+1] ==\"b\":\n",
    "            s_list.insert(i+1, \"a\")\n",
    "            count +=1\n",
    "            x +=1\n",
    "        if s_list[i] == \"c\" and s_list[i+1] ==\"c\":\n",
    "            s_list.insert(i+1, \"ab\")\n",
    "            count +=2\n",
    "            x +=1\n",
    "        \n",
    "        i +=1\n",
    "    print(count)\n",
    "    return s_list\n",
    "print(Solution(\"acbba\"))"
   ]
  },
  {
   "cell_type": "code",
   "execution_count": 106,
   "metadata": {},
   "outputs": [
    {
     "name": "stdout",
     "output_type": "stream",
     "text": [
      "-1\n"
     ]
    }
   ],
   "source": [
    "def solution(A):\n",
    "    if len(A) >= 4:\n",
    "        my_dict = {}\n",
    "        for i in range(len(A)):\n",
    "            if A[i] not in my_dict and (A.count(A[i]) >=2):\n",
    "                my_dict[A[i]] = A.count(A[i])\n",
    "        print(my_dict)\n",
    "\n",
    "        if len(my_dict)>= 2:\n",
    "            max_val = max(my_dict)\n",
    "            my_dict.pop(max_val)\n",
    "            sec_max = max(my_dict)\n",
    "            print(max_val - sec_max)\n",
    "            return max_val - sec_max\n",
    "        elif len(my_dict) == 1:\n",
    "            x = list(my_dict.values())\n",
    "            print(\"x:\", x)\n",
    "            if x[0] <= 4:\n",
    "                return -1\n",
    "            else:\n",
    "                return 0\n",
    "\n",
    "        \n",
    "\n",
    "    return -1\n",
    "#A =[911, 1, 3, 1000, 1000, 2, 2, 999, 1000, 911]\n",
    "#A = [2, 2, 2, 2, 2]\n",
    "#A =  [4, 1, 1, 1, 3]\n",
    "A = [2]\n",
    "print(solution(A))"
   ]
  },
  {
   "cell_type": "code",
   "execution_count": 85,
   "metadata": {},
   "outputs": [
    {
     "name": "stdout",
     "output_type": "stream",
     "text": [
      "[2, 4]\n"
     ]
    }
   ],
   "source": [
    "my_dict = {2 : 5, 4:3}\n",
    "x = list(my_dict.keys())\n",
    "print(x)"
   ]
  },
  {
   "cell_type": "code",
   "execution_count": 8,
   "metadata": {},
   "outputs": [
    {
     "name": "stdout",
     "output_type": "stream",
     "text": [
      "5\n"
     ]
    }
   ],
   "source": [
    "def search(nums, target):\n",
    "    low = 0\n",
    "    high = len(nums) -1\n",
    "    \n",
    "\n",
    "    if target not in nums:\n",
    "        return -1\n",
    "\n",
    "    while low <= high:\n",
    "        mid = low + ((high-low)//2)\n",
    "        if target < nums[mid]:\n",
    "            low = mid + 1\n",
    "        elif target > nums[mid]:\n",
    "            high = mid -1\n",
    "        else:\n",
    "            return nums[mid]\n",
    "\n",
    "print( search([4,6,8,9,23,5,6], 5))"
   ]
  },
  {
   "cell_type": "code",
   "execution_count": null,
   "metadata": {},
   "outputs": [],
   "source": []
  }
 ],
 "metadata": {
  "kernelspec": {
   "display_name": "Python 3.8.5 ('base')",
   "language": "python",
   "name": "python3"
  },
  "language_info": {
   "codemirror_mode": {
    "name": "ipython",
    "version": 3
   },
   "file_extension": ".py",
   "mimetype": "text/x-python",
   "name": "python",
   "nbconvert_exporter": "python",
   "pygments_lexer": "ipython3",
   "version": "3.8.5"
  },
  "orig_nbformat": 4,
  "vscode": {
   "interpreter": {
    "hash": "f2407f60e953aec4fe3de76e4a8b6e23cb357e4faa70cfc9f06965f8c2bae4f7"
   }
  }
 },
 "nbformat": 4,
 "nbformat_minor": 2
}
